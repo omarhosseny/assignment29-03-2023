{
 "cells": [
  {
   "cell_type": "code",
   "execution_count": 35,
   "id": "d3e5f18d-2a51-4eb7-94a1-36d9b87aa73d",
   "metadata": {},
   "outputs": [
    {
     "name": "stdin",
     "output_type": "stream",
     "text": [
      "player 1 rock\n",
      "player 2 rock\n"
     ]
    },
    {
     "data": {
      "text/plain": [
       "'draw'"
      ]
     },
     "execution_count": 35,
     "metadata": {},
     "output_type": "execute_result"
    }
   ],
   "source": [
    "import game\n",
    "action1 = input('player 1')\n",
    "action2 = input('player 2')\n",
    "game.game(action1,action2)"
   ]
  },
  {
   "cell_type": "code",
   "execution_count": null,
   "id": "2ad330d9-8ecf-40f9-b1f0-11ae38193ddf",
   "metadata": {},
   "outputs": [],
   "source": []
  }
 ],
 "metadata": {
  "kernelspec": {
   "display_name": "Python 3 (ipykernel)",
   "language": "python",
   "name": "python3"
  },
  "language_info": {
   "codemirror_mode": {
    "name": "ipython",
    "version": 3
   },
   "file_extension": ".py",
   "mimetype": "text/x-python",
   "name": "python",
   "nbconvert_exporter": "python",
   "pygments_lexer": "ipython3",
   "version": "3.9.12"
  }
 },
 "nbformat": 4,
 "nbformat_minor": 5
}
